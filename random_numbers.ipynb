{
 "cells": [
  {
   "cell_type": "code",
   "execution_count": 1,
   "id": "77ece6a8",
   "metadata": {},
   "outputs": [],
   "source": [
    "# Import the random module.\n",
    "import random"
   ]
  },
  {
   "cell_type": "code",
   "execution_count": 2,
   "id": "86d65a3f",
   "metadata": {},
   "outputs": [
    {
     "data": {
      "text/plain": [
       "-47"
      ]
     },
     "execution_count": 2,
     "metadata": {},
     "output_type": "execute_result"
    }
   ],
   "source": [
    "random.randint(-90,90)\n"
   ]
  },
  {
   "cell_type": "code",
   "execution_count": 3,
   "id": "cebff68c",
   "metadata": {},
   "outputs": [
    {
     "data": {
      "text/plain": [
       "0.1549939796459422"
      ]
     },
     "execution_count": 3,
     "metadata": {},
     "output_type": "execute_result"
    }
   ],
   "source": [
    "random.random()"
   ]
  },
  {
   "cell_type": "code",
   "execution_count": 4,
   "id": "d6b42751",
   "metadata": {},
   "outputs": [
    {
     "data": {
      "text/plain": [
       "[-54.128282730548,\n",
       " 62.52482650298024,\n",
       " -2.2550727883974626,\n",
       " -24.852259883104754,\n",
       " 78.0224392148698,\n",
       " 18.356649257291085,\n",
       " -21.266900144890847,\n",
       " -0.9799623828792267,\n",
       " -35.87099083867087,\n",
       " -26.47008025895757]"
      ]
     },
     "execution_count": 4,
     "metadata": {},
     "output_type": "execute_result"
    }
   ],
   "source": [
    "# use randint + random to creat latitudes between -89.99999 and 89.99999\n",
    "#make x to 1 so that it will only run 10\n",
    "x = 1\n",
    "#creates a empty list called latitudes\n",
    "latitudes = []\n",
    "#when x is less then 11\n",
    "while x < 11:\n",
    "    #random +randit will both run and create the variable random_lat\n",
    "    random_lat = random.randint(-90, 89) + random.random()\n",
    "    #we will append the laittude list to add the random latitude that was generated\n",
    "    latitudes.append(random_lat)\n",
    "    # add 1 to the x value so that it will it 11 after 10 times through the while function\n",
    "    x += 1\n",
    "    \n",
    "latitudes"
   ]
  },
  {
   "cell_type": "code",
   "execution_count": 5,
   "id": "770ffdc9",
   "metadata": {},
   "outputs": [
    {
     "data": {
      "text/plain": [
       "-84"
      ]
     },
     "execution_count": 5,
     "metadata": {},
     "output_type": "execute_result"
    }
   ],
   "source": [
    "random.randrange(-90, 90, step = 3)"
   ]
  },
  {
   "cell_type": "code",
   "execution_count": 6,
   "id": "796501ca",
   "metadata": {},
   "outputs": [
    {
     "data": {
      "text/plain": [
       "2.270053066668538"
      ]
     },
     "execution_count": 6,
     "metadata": {},
     "output_type": "execute_result"
    }
   ],
   "source": [
    "random.uniform(-90,90)\n"
   ]
  },
  {
   "cell_type": "code",
   "execution_count": 7,
   "id": "743f388e",
   "metadata": {},
   "outputs": [
    {
     "data": {
      "text/plain": [
       "array([-36.64826112,  21.60546023, -39.84128057,  77.36627663,\n",
       "        18.06883644,  56.23505686, -46.98582033, -62.59276436,\n",
       "        83.90160519, -78.59135318,   8.51580585,  10.6090924 ,\n",
       "        10.77731616, -88.10705586,  14.40999423, -15.05399047,\n",
       "       -43.76676601,  62.22258977, -57.55542342,  13.76830017,\n",
       "        77.27161896, -75.15979256,  30.7835622 ,  51.26670942,\n",
       "         0.76746934,  71.89941862, -54.47968246, -41.90169848,\n",
       "        39.04859031, -59.82970592,  79.30587908, -57.86942216,\n",
       "       -26.51298027,  65.29813655, -38.57920737, -70.28005734,\n",
       "        50.46978324, -72.39434969, -19.50443491, -89.59213948,\n",
       "       -11.54609228, -57.62421778, -67.43950912, -89.23601894,\n",
       "        20.50715585,  41.88231807, -78.10399035, -66.03890722,\n",
       "        54.12383521,  45.52317363])"
      ]
     },
     "execution_count": 7,
     "metadata": {},
     "output_type": "execute_result"
    }
   ],
   "source": [
    "# Import the NumPy module.\n",
    "import numpy as np\n",
    "#this makes it so that both -90 and 90 can be floating-point decimals. adding the size makes it an array\n",
    "np.random.uniform(-90.000, 90.000, size=50)"
   ]
  },
  {
   "cell_type": "code",
   "execution_count": 8,
   "id": "6ff8b532",
   "metadata": {},
   "outputs": [
    {
     "name": "stdout",
     "output_type": "stream",
     "text": [
      "8.86 µs ± 324 ns per loop (mean ± std. dev. of 7 runs, 100000 loops each)\n"
     ]
    }
   ],
   "source": [
    "%timeit np.random.uniform(-90.000, 90.000, size=1500)"
   ]
  },
  {
   "cell_type": "code",
   "execution_count": 9,
   "id": "40d51009",
   "metadata": {},
   "outputs": [
    {
     "name": "stdout",
     "output_type": "stream",
     "text": [
      "865 µs ± 53.1 µs per loop (mean ± std. dev. of 7 runs, 1000 loops each)\n"
     ]
    }
   ],
   "source": [
    "def latitudes(size):\n",
    "    #make x = 0\n",
    "    x = 0\n",
    "    #creates a empty list called latitudes\n",
    "    latitudes = []\n",
    "    #when x is less then (size) 1500\n",
    "    while x < (size):\n",
    "    #random +randit will both run and create the variable random_lat\n",
    "        random_lat = random.randint(-90, 89) + random.random()\n",
    "    #we will append the laittude list to add the random latitude that was generated\n",
    "        latitudes.append(random_lat)\n",
    "    # add 1 to the x value so that it will run until it hits 1500 times through the while function\n",
    "        x += 1\n",
    "# Call the function with 1500.\n",
    "%timeit latitudes(1500)\n",
    "\n",
    "#using the %timeit np.random.uniform(-90.000, 90.000, size=1500) function is 100 times faster then doing the while loop"
   ]
  },
  {
   "cell_type": "code",
   "execution_count": 10,
   "id": "5297bde5",
   "metadata": {},
   "outputs": [
    {
     "data": {
      "text/plain": [
       "<zip at 0x258c0aa32c0>"
      ]
     },
     "execution_count": 10,
     "metadata": {},
     "output_type": "execute_result"
    }
   ],
   "source": [
    "# Create a set of random latitude and longitude combinations.\n",
    "lats = np.random.uniform(low=-90.000, high=90.000, size=1500)\n",
    "lngs = np.random.uniform(low=-180.000, high=180.000, size=1500)\n",
    "# zip them into pairs so that one lat goes with each lngs and then they become a tuple\n",
    "lat_lngs = zip(lats, lngs)\n",
    "lat_lngs"
   ]
  },
  {
   "cell_type": "code",
   "execution_count": 1,
   "id": "3e312da8",
   "metadata": {},
   "outputs": [
    {
     "name": "stdout",
     "output_type": "stream",
     "text": [
      "25.12903645 -67.59741259\n",
      "25.92017388 11.09532135\n",
      "26.62509167 74.84233102\n",
      "-59.98969384 -76.89176677\n",
      "37.30571269 -61.13376282\n",
      "cockburn town tc\n",
      "gat ly\n",
      "parvatsar in\n",
      "punta arenas cl\n",
      "saint george bm\n"
     ]
    }
   ],
   "source": [
    "# Create a practice set of random latitude and longitude combinations.\n",
    "lats = [25.12903645, 25.92017388, 26.62509167, -59.98969384, 37.30571269]\n",
    "lngs = [-67.59741259, 11.09532135, 74.84233102, -76.89176677, -61.13376282]\n",
    "lat_lngs = zip(lats, lngs)\n",
    "# Add the latitudes and longitudes to a list.\n",
    "coordinates = list(lat_lngs)\n",
    "# Use the print() function to display the latitude and longitude combinations.\n",
    "for coordinate in coordinates:\n",
    "    #cordinate [0] is column 1, cordinate [1] is column 2\n",
    "    print(coordinate[0], coordinate[1])\n",
    "    \n",
    "# Use the citipy module to determine city based on latitude and longitude.\n",
    "from citipy import citipy\n",
    "# Use the print() function to display the latitude and longitude combinations.\n",
    "for coordinate in coordinates:\n",
    "    print(citipy.nearest_city(coordinate[0], coordinate[1]).city_name,\n",
    "          citipy.nearest_city(coordinate[0], coordinate[1]).country_code)\n",
    "    \n",
    "# Create a list for holding the cities.\n",
    "cities = []\n",
    "# Identify the nearest city for each latitude and longitude combination.\n",
    "for coordinate in coordinates:\n",
    "    city = citipy.nearest_city(coordinate[0], coordinate[1]).city_name\n",
    "\n",
    "    # If the city is unique, then we will add it to the cities list.\n",
    "    if city not in cities:\n",
    "        cities.append(city)\n",
    "# Print the city count to confirm sufficient count.\n",
    "len(cities)"
   ]
  }
 ],
 "metadata": {
  "kernelspec": {
   "display_name": "PythonData",
   "language": "python",
   "name": "pythondata"
  },
  "language_info": {
   "codemirror_mode": {
    "name": "ipython",
    "version": 3
   },
   "file_extension": ".py",
   "mimetype": "text/x-python",
   "name": "python",
   "nbconvert_exporter": "python",
   "pygments_lexer": "ipython3",
   "version": "3.9.13"
  }
 },
 "nbformat": 4,
 "nbformat_minor": 5
}
